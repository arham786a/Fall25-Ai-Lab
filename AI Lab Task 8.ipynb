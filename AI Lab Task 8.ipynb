{
 "cells": [
  {
   "cell_type": "code",
   "execution_count": 5,
   "id": "cd1545e3",
   "metadata": {},
   "outputs": [
    {
     "name": "stdout",
     "output_type": "stream",
     "text": [
      "Best possible score for the maximizing player is: 5\n"
     ]
    }
   ],
   "source": [
    "\n",
    "def minmax(depth, is_max, values, index, max_depth):\n",
    "    if depth == max_depth:\n",
    "        return values[index]\n",
    "\n",
    "    left = minmax(depth + 1, not is_max, values, index * 2, max_depth)\n",
    "    right = minmax(depth + 1, not is_max, values, index * 2 + 1, max_depth)\n",
    "\n",
    "    if is_max:\n",
    "        return max(left, right)\n",
    "    else:\n",
    "        return min(left, right)\n",
    "\n",
    "leaf_values = [3, 5, 2, 9, 3, 5, 2, 9]\n",
    "\n",
    "def find_depth(values):\n",
    "    count = 0\n",
    "    while 2 ** count < len(values):\n",
    "        count += 1\n",
    "    if 2 ** count != len(values):\n",
    "        return -1\n",
    "    return count\n",
    "\n",
    "depth = find_depth(leaf_values)\n",
    "\n",
    "if depth == -1:\n",
    "    print(\"Error: Number of leaf nodes must be a power of 2\")\n",
    "else:\n",
    "    best_score = minmax(0, True, leaf_values, 0, depth)\n",
    "    print(\"Best possible score for the maximizing player is:\", best_score)\n"
   ]
  }
 ],
 "metadata": {
  "kernelspec": {
   "display_name": "base",
   "language": "python",
   "name": "python3"
  },
  "language_info": {
   "codemirror_mode": {
    "name": "ipython",
    "version": 3
   },
   "file_extension": ".py",
   "mimetype": "text/x-python",
   "name": "python",
   "nbconvert_exporter": "python",
   "pygments_lexer": "ipython3",
   "version": "3.12.4"
  }
 },
 "nbformat": 4,
 "nbformat_minor": 5
}
